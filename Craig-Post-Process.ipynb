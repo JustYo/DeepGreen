{
 "cells": [
  {
   "cell_type": "code",
   "execution_count": 1,
   "metadata": {},
   "outputs": [],
   "source": [
    "import json\n",
    "import sys\n",
    "import numpy as np\n",
    "import tensorflow as tf\n",
    "from tensorflow import keras\n",
    "import matplotlib.pyplot as plt\n",
    "from mpl_toolkits import mplot3d\n",
    "import matplotlib.ticker as mtick\n",
    "\n",
    "sys.path.append(\"architecture/\")\n",
    "from NormalizedMeanSquaredError import NormalizedMeanSquaredError as NMSE\n",
    "from NormalizedMeanSquaredError import NormalizedMeanSquaredError2D as NMSE2"
   ]
  },
  {
   "cell_type": "code",
   "execution_count": 2,
   "metadata": {},
   "outputs": [],
   "source": [
    "expt_name = 'S2-NLSL2-Expt1-L20-a'\n",
    "data_file_prefix = 'data/S2-NLSL2'"
   ]
  },
  {
   "cell_type": "code",
   "execution_count": 3,
   "metadata": {},
   "outputs": [],
   "source": [
    "save_prefix = 'results/{}/'.format(expt_name)\n",
    "results_path = save_prefix + \"initial_pool_results.json\"\n",
    "init_results = json.load(open(results_path))"
   ]
  },
  {
   "cell_type": "code",
   "execution_count": 4,
   "metadata": {},
   "outputs": [],
   "source": [
    "lr = init_results['lr']\n",
    "best_loss = init_results['best_loss']"
   ]
  },
  {
   "cell_type": "code",
   "execution_count": 5,
   "metadata": {},
   "outputs": [
    {
     "data": {
      "image/png": "[encoded data removed]",
      "text/plain": [
       "<Figure size 432x288 with 1 Axes>"
      ]
     },
     "metadata": {
      "needs_background": "light"
     },
     "output_type": "display_data"
    }
   ],
   "source": [
    "plt.figure()\n",
    "plt.loglog(lr, best_loss, 'ok')\n",
    "plt.xlabel('learning rate')\n",
    "plt.ylabel('validation loss')\n",
    "plt.show()"
   ]
  },
  {
   "cell_type": "code",
   "execution_count": 6,
   "metadata": {},
   "outputs": [],
   "source": [
    "# Step 1. Load in the data\n",
    "data_train_u = np.load(\"{}_train1_u.npy\".format(data_file_prefix)).astype(np.float32)\n",
    "data_train_f = np.load(\"{}_train1_f.npy\".format(data_file_prefix)).astype(np.float32)\n",
    "data_val_u = np.load(\"{}_val_u.npy\".format(data_file_prefix)).astype(np.float32)\n",
    "data_val_f = np.load(\"{}_val_f.npy\".format(data_file_prefix)).astype(np.float32)\n",
    "data_test_u1 = np.load(\"{}_test1_u.npy\".format(data_file_prefix)).astype(np.float32)\n",
    "data_test_f1 = np.load(\"{}_test1_f.npy\".format(data_file_prefix)).astype(np.float32)\n",
    "data_test_u = np.load(\"{}_test2_u.npy\".format(data_file_prefix)).astype(np.float32)\n",
    "data_test_f = np.load(\"{}_test2_f.npy\".format(data_file_prefix)).astype(np.float32)"
   ]
  },
  {
   "cell_type": "code",
   "execution_count": 7,
   "metadata": {},
   "outputs": [],
   "source": [
    "best_model_path = save_prefix + \"final_model\"\n",
    "\n",
    "# Load the best model\n",
    "full_model = keras.models.load_model(best_model_path, \n",
    "                                     custom_objects={\"NormalizedMeanSquaredError\": NMSE})\n"
   ]
  },
  {
   "cell_type": "code",
   "execution_count": 8,
   "metadata": {},
   "outputs": [
    {
     "name": "stdout",
     "output_type": "stream",
     "text": [
      "Score 1:  0.000166488913\n",
      "Score 2:  0.000240425652\n",
      "Score 3:  0.00511120586\n",
      "Score 4:  0.000855285907\n",
      "(8836, 128)\n",
      "Total Loss: tf.Tensor(0.0063734064, shape=(), dtype=float32)\n"
     ]
    }
   ],
   "source": [
    "loss_fns = 4*[NMSE()]\n",
    "predicted_ys = full_model.predict(x=[data_train_u, data_train_f])\n",
    "\n",
    "true_ys=[data_train_u, data_train_f, data_train_f, data_train_u]\n",
    "nmse = NMSE()\n",
    "\n",
    "total_loss = 0\n",
    "for i, (pred_y, true_y, loss_fn) in enumerate(zip(predicted_ys, true_ys, loss_fns)):\n",
    "    #print(pred_y.dtype, true_y.dtype)\n",
    "    print(\"Score {}:\".format(i+1), end=\"  \")\n",
    "    loss = loss_fn(pred_y, true_y)\n",
    "    tf.print(loss)\n",
    "    total_loss += loss\n",
    "    \n",
    "print(data_train_u.shape)\n",
    "print(\"Total Loss:\", total_loss)"
   ]
  },
  {
   "cell_type": "code",
   "execution_count": 9,
   "metadata": {},
   "outputs": [
    {
     "name": "stdout",
     "output_type": "stream",
     "text": [
      "Score 0:  0.000221253111\n",
      "Score 1:  0.000387275562\n",
      "Score 2:  0.0132881692\n",
      "Score 3:  0.0090101324\n",
      "(2210, 128)\n",
      "Total Loss: tf.Tensor(0.02290683, shape=(), dtype=float32)\n"
     ]
    }
   ],
   "source": [
    "val_x = [data_val_u, data_val_f]\n",
    "val_ys = [data_val_u, data_val_f, data_val_f, data_val_u]\n",
    "predicted_ys = full_model.predict(x=val_x)\n",
    "\n",
    "total_loss = 0\n",
    "for i, (pred_y, true_y) in enumerate(zip(predicted_ys, val_ys)):\n",
    "    #print(pred_y.dtype, true_y.dtype)\n",
    "    print(\"Score {}:\".format(i), end=\"  \")\n",
    "    loss = NMSE()(pred_y, true_y)\n",
    "    tf.print(loss)\n",
    "    total_loss += loss\n",
    "    \n",
    "print(data_val_u.shape)\n",
    "print(\"Total Loss:\", total_loss)"
   ]
  },
  {
   "cell_type": "code",
   "execution_count": 10,
   "metadata": {},
   "outputs": [
    {
     "name": "stdout",
     "output_type": "stream",
     "text": [
      "35/35 [==============================] - 0s 4ms/step - loss: 0.0122 - output_1_loss: 2.1744e-04 - output_2_loss: 3.7444e-04 - output_3_loss: 0.0085 - output_4_loss: 7.2849e-04\n"
     ]
    }
   ],
   "source": [
    "losses = full_model.evaluate(x=val_x, y=val_ys, batch_size=64, return_dict=True)"
   ]
  },
  {
   "cell_type": "code",
   "execution_count": 11,
   "metadata": {},
   "outputs": [
    {
     "name": "stdout",
     "output_type": "stream",
     "text": [
      "Model: \"green_net\"\n",
      "_________________________________________________________________\n",
      "Layer (type)                 Output Shape              Param #   \n",
      "=================================================================\n",
      "dense_encoder_decoder (Dense multiple                  82560     \n",
      "_________________________________________________________________\n",
      "dense_encoder_decoder_1 (Den multiple                  82560     \n",
      "_________________________________________________________________\n",
      "dense_encoder_decoder_2 (Den multiple                  82560     \n",
      "_________________________________________________________________\n",
      "dense_encoder_decoder_3 (Den multiple                  82560     \n",
      "=================================================================\n",
      "Total params: 340,880\n",
      "Trainable params: 340,880\n",
      "Non-trainable params: 0\n",
      "_________________________________________________________________\n"
     ]
    }
   ],
   "source": [
    "full_model.summary()"
   ]
  },
  {
   "cell_type": "code",
   "execution_count": 12,
   "metadata": {},
   "outputs": [],
   "source": [
    "results_path = save_prefix + \"final_model_history.json\"\n",
    "f_hist = json.load(open(results_path))"
   ]
  },
  {
   "cell_type": "code",
   "execution_count": 13,
   "metadata": {},
   "outputs": [
    {
     "data": {
      "text/plain": [
       "0.012198429554700851"
      ]
     },
     "execution_count": 13,
     "metadata": {},
     "output_type": "execute_result"
    }
   ],
   "source": [
    "np.min(f_hist['val_loss'])"
   ]
  },
  {
   "cell_type": "code",
   "execution_count": 14,
   "metadata": {},
   "outputs": [],
   "source": [
    "def rel_mse(pred, true, den_nonzero=1e-5):\n",
    "    num = np.mean(np.square(pred-true), axis=-1)\n",
    "    den = np.mean(np.square(true), axis=-1)\n",
    "    den += den_nonzero\n",
    "    return np.divide(num, den) \n",
    "    "
   ]
  },
  {
   "cell_type": "code",
   "execution_count": 15,
   "metadata": {},
   "outputs": [
    {
     "name": "stdout",
     "output_type": "stream",
     "text": [
      "Score 0:  0.00021744226\n",
      "Score 1:  0.00037444066\n",
      "Score 2:  0.008509359\n",
      "Score 3:  0.0007284899\n",
      "Total Loss: 0.00982973212376237\n"
     ]
    }
   ],
   "source": [
    "val_x = [data_val_u, data_val_f]\n",
    "val_ys = [data_val_u, data_val_f, data_val_f, data_val_u]\n",
    "predicted_ys = full_model.predict(x=val_x)\n",
    "\n",
    "data = []\n",
    "total_loss = 0\n",
    "for i, (pred_y, true_y) in enumerate(zip(predicted_ys, val_ys)):\n",
    "    #print(pred_y.dtype, true_y.dtype)\n",
    "    print(\"Score {}:\".format(i), end=\"  \")\n",
    "    data.append(rel_mse(pred_y, true_y, 1e-5))\n",
    "    loss = np.mean(data[i])\n",
    "    tf.print(loss)\n",
    "    total_loss += loss\n",
    "\n",
    "print(\"Total Loss:\", total_loss)"
   ]
  },
  {
   "cell_type": "code",
   "execution_count": 16,
   "metadata": {},
   "outputs": [
    {
     "data": {
      "image/png": "[encoded data removed]",
      "text/plain": [
       "<Figure size 720x432 with 1 Axes>"
      ]
     },
     "metadata": {
      "needs_background": "light"
     },
     "output_type": "display_data"
    }
   ],
   "source": [
    "probs = [\"u AEC Loss\", \"F AEC Loss\", r\"$Lv=f$ AEC Loss\", r\"$v=L^-1f$ AEC Loss\"]\n",
    "\n",
    "fig = plt.figure(figsize=(10,6))\n",
    "ax = fig.add_subplot(111)\n",
    "ax.set_title(r'Model Validation Set Loss Function Scores')\n",
    "ax.set_ylabel(\"Prediction Error\", fontsize=14)\n",
    "ax.set_xlabel(\"Problem Type\", fontsize=14)\n",
    "ax.boxplot(data, labels=probs, showfliers=True)\n",
    "#ax.ticklabel_format(axis='y', style='sci')\n",
    "ax.set_yscale('log')\n",
    "ax.yaxis.set_major_formatter(mtick.FormatStrFormatter('%.2e'))\n",
    "plt.show()"
   ]
  },
  {
   "cell_type": "code",
   "execution_count": null,
   "metadata": {},
   "outputs": [],
   "source": []
  },
  {
   "cell_type": "code",
   "execution_count": null,
   "metadata": {},
   "outputs": [],
   "source": []
  }
 ],
 "metadata": {
  "kernelspec": {
   "display_name": "newtf",
   "language": "python",
   "name": "newtf"
  },
  "language_info": {
   "codemirror_mode": {
    "name": "ipython",
    "version": 3
   },
   "file_extension": ".py",
   "mimetype": "text/x-python",
   "name": "python",
   "nbconvert_exporter": "python",
   "pygments_lexer": "ipython3",
   "version": "3.7.7"
  }
 },
 "nbformat": 4,
 "nbformat_minor": 2
}
