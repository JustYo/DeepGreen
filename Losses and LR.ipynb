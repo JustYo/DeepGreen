{
 "cells": [
  {
   "cell_type": "code",
   "execution_count": 1,
   "metadata": {},
   "outputs": [],
   "source": [
    "import json\n",
    "import sys\n",
    "import numpy as np\n",
    "import tensorflow as tf\n",
    "from tensorflow import keras\n",
    "import matplotlib.pyplot as plt\n",
    "from mpl_toolkits import mplot3d\n",
    "import matplotlib.ticker as mtick\n",
    "\n",
    "sys.path.append(\"architecture/\")\n",
    "from NormalizedMeanSquaredError import NormalizedMeanSquaredError as NMSE\n",
    "from NormalizedMeanSquaredError import NormalizedMeanSquaredError2D as NMSE2"
   ]
  },
  {
   "cell_type": "code",
   "execution_count": 4,
   "metadata": {},
   "outputs": [],
   "source": [
    "def load_data(data_file_prefix):\n",
    "    # Step 1. Load in the data\n",
    "    data_train_u = np.load(\"{}_train1_u.npy\".format(data_file_prefix)).astype(np.float32)\n",
    "    data_train_f = np.load(\"{}_train1_f.npy\".format(data_file_prefix)).astype(np.float32)\n",
    "    data_val_u = np.load(\"{}_val_u.npy\".format(data_file_prefix)).astype(np.float32)\n",
    "    data_val_f = np.load(\"{}_val_f.npy\".format(data_file_prefix)).astype(np.float32)\n",
    "    data_test_u1 = np.load(\"{}_test1_u.npy\".format(data_file_prefix)).astype(np.float32)\n",
    "    data_test_f1 = np.load(\"{}_test1_f.npy\".format(data_file_prefix)).astype(np.float32)\n",
    "    data_test_u = np.load(\"{}_test2_u.npy\".format(data_file_prefix)).astype(np.float32)\n",
    "    data_test_f = np.load(\"{}_test2_f.npy\".format(data_file_prefix)).astype(np.float32)\n",
    "    \n",
    "    val_x = [data_val_u, data_val_f]\n",
    "    val_ys = [data_val_u, data_val_f, data_val_f, data_val_u]\n",
    "    return val_x, val_ys\n",
    "    \n",
    "\n",
    "def analyze_experiment(expt_name, data_file_prefix):\n",
    "    save_prefix = 'results/{}/'.format(expt_name)\n",
    "    results_path = save_prefix + \"initial_pool_results.json\"\n",
    "    init_results = json.load(open(results_path))\n",
    "    \n",
    "    # Plot the best losses vs initial learning rates from initial period\n",
    "    lr = init_results['lr']\n",
    "    best_loss = init_results['best_loss']\n",
    "    plt.figure()\n",
    "    plt.loglog(lr, best_loss, 'ok')\n",
    "    plt.xlabel('learning rate')\n",
    "    plt.ylabel('validation loss')\n",
    "    plt.show()\n",
    "    \n",
    "    # Load the data:\n",
    "    val_x, val_ys = load_data(data_file_prefix)\n",
    "\n",
    "    # Load the best model\n",
    "    full_model = keras.models.load_model(save_prefix + \"final_model\", \n",
    "                                         custom_objects={\"NormalizedMeanSquaredError\": NMSE})\n",
    "\n",
    "    # Compute and print out the losses\n",
    "    losses = full_model.evaluate(x=val_x, y=val_ys, batch_size=64, return_dict=True, verbose=0)\n",
    "    print(\"LOSSES:\")\n",
    "    print([loss for loss in losses])\n",
    "    for loss in losses:\n",
    "        print(losses[loss], end=\", \")\n",
    "        \n",
    "    # Print out the optimizer learning rate:\n",
    "    print(\"\\nLEARNING RATE:\")\n",
    "    lr = full_model.optimizer.get_config()['learning_rate']\n",
    "    print(lr)"
   ]
  },
  {
   "cell_type": "code",
   "execution_count": 9,
   "metadata": {},
   "outputs": [
    {
     "name": "stdout",
     "output_type": "stream",
     "text": [
      "S1-NLSL1-Expt1-L128-a\n"
     ]
    },
    {
     "data": {
      "image/png": "[encoded data removed]",
      "text/plain": [
       "<matplotlib.figure.Figure at 0x7f4040195c50>"
      ]
     },
     "metadata": {
      "needs_background": "light"
     },
     "output_type": "display_data"
    },
    {
     "name": "stdout",
     "output_type": "stream",
     "text": [
      "LOSSES:\n",
      "['loss', 'output_1_loss', 'output_2_loss', 'output_3_loss', 'output_4_loss']\n",
      "0.0007532101008109748, 1.6451458577648737e-05, 0.00013068383850622922, 0.00018644383817445487, 2.5970486603910103e-05, \n",
      "LEARNING RATE:\n",
      "0.0005409360746853054\n",
      "S1-NLSL1-Expt1-L128-b\n"
     ]
    },
    {
     "data": {
      "image/png": "[encoded data removed]",
      "text/plain": [
       "<matplotlib.figure.Figure at 0x7f4088432438>"
      ]
     },
     "metadata": {
      "needs_background": "light"
     },
     "output_type": "display_data"
    },
    {
     "name": "stdout",
     "output_type": "stream",
     "text": [
      "LOSSES:\n",
      "['loss', 'output_1_loss', 'output_2_loss', 'output_3_loss', 'output_4_loss']\n",
      "0.0008841061498969793, 2.29468187171733e-05, 0.0001386614894727245, 0.00026106220320798457, 5.994838284095749e-05, \n",
      "LEARNING RATE:\n",
      "0.00030973012326285243\n"
     ]
    }
   ],
   "source": [
    "#expt_name = 'S0-NLSL1-Expt1-L20-b'\n",
    "#data_file_prefix = './data/S0-Oscillator'\n",
    "\n",
    "expt_name_prefix = 'S1-NLSL1-Expt1-L128-'\n",
    "data_file_prefix = './data/S1-NLSL1'\n",
    "\n",
    "expts = ['a', 'b']#, 'c', 'd']\n",
    "\n",
    "for expt in expts:\n",
    "    expt_name = expt_name_prefix + expt\n",
    "    print(expt_name)\n",
    "    analyze_experiment(expt_name, data_file_prefix)"
   ]
  }
 ],
 "metadata": {
  "kernelspec": {
   "display_name": "Python 3",
   "language": "python",
   "name": "python3"
  },
  "language_info": {
   "codemirror_mode": {
    "name": "ipython",
    "version": 3
   },
   "file_extension": ".py",
   "mimetype": "text/x-python",
   "name": "python",
   "nbconvert_exporter": "python",
   "pygments_lexer": "ipython3",
   "version": "3.6.9"
  }
 },
 "nbformat": 4,
 "nbformat_minor": 2
}
