{
 "cells": [
  {
   "cell_type": "code",
   "execution_count": 1,
   "metadata": {},
   "outputs": [],
   "source": [
    "%load_ext autoreload\n",
    "\n",
    "from tensorflow import keras\n",
    "import tensorflow as tf\n",
    "import numpy as np\n",
    "\n",
    "from NormalizedMeanSquaredError import NormalizedMeanSquaredError as NMSE"
   ]
  },
  {
   "cell_type": "code",
   "execution_count": 2,
   "metadata": {},
   "outputs": [
    {
     "name": "stdout",
     "output_type": "stream",
     "text": [
      "tf.Tensor(\n",
      "[[-0.6054458   0.13295569]\n",
      " [ 1.4990121  -0.8654718 ]\n",
      " [-1.7047676   1.1586118 ]], shape=(3, 2), dtype=float32)\n"
     ]
    }
   ],
   "source": [
    "x = tf.random.normal([3,2])\n",
    "y = tf.random.normal([3,2])\n",
    "print(x)"
   ]
  },
  {
   "cell_type": "code",
   "execution_count": 3,
   "metadata": {},
   "outputs": [
    {
     "name": "stdout",
     "output_type": "stream",
     "text": [
      "tf.Tensor(\n",
      "[[-1.2108916   0.26591137]\n",
      " [ 0.8935663  -0.7325161 ]\n",
      " [-2.3102133   1.2915674 ]\n",
      " [ 0.8935663  -0.7325161 ]\n",
      " [ 2.9980242  -1.7309436 ]\n",
      " [-0.20575547  0.29314   ]\n",
      " [-2.3102133   1.2915674 ]\n",
      " [-0.20575547  0.29314   ]\n",
      " [-3.4095352   2.3172235 ]], shape=(9, 2), dtype=float32)\n"
     ]
    }
   ],
   "source": [
    "x_sums = tf.reshape(x[None]+x[:, None], [-1, x.shape[-1]])\n",
    "y_sums = tf.reshape(y[None]+y[:, None], [-1, y.shape[-1]])\n",
    "\n",
    "print(x_sums)\n"
   ]
  },
  {
   "cell_type": "code",
   "execution_count": 4,
   "metadata": {},
   "outputs": [
    {
     "name": "stdout",
     "output_type": "stream",
     "text": [
      "tf.Tensor([-1.2108916   0.26591137], shape=(2,), dtype=float32)\n",
      "tf.Tensor([ 0.8935663 -0.7325161], shape=(2,), dtype=float32)\n",
      "tf.Tensor([-2.3102133  1.2915674], shape=(2,), dtype=float32)\n",
      "--------\n",
      "tf.Tensor([ 0.8935663 -0.7325161], shape=(2,), dtype=float32)\n",
      "tf.Tensor([ 2.9980242 -1.7309436], shape=(2,), dtype=float32)\n",
      "tf.Tensor([-0.20575547  0.29314   ], shape=(2,), dtype=float32)\n",
      "--------\n",
      "tf.Tensor([-2.3102133  1.2915674], shape=(2,), dtype=float32)\n",
      "tf.Tensor([-0.20575547  0.29314   ], shape=(2,), dtype=float32)\n",
      "tf.Tensor([-3.4095352  2.3172235], shape=(2,), dtype=float32)\n",
      "--------\n"
     ]
    }
   ],
   "source": [
    "rows = []\n",
    "for row in range(x.shape[0]):\n",
    "    rows.append(x[row,:])\n",
    "\n",
    "for row_1 in rows:\n",
    "    for row_2 in rows:\n",
    "        print(row_1+row_2)\n",
    "    print(\"--------\")"
   ]
  },
  {
   "cell_type": "code",
   "execution_count": 5,
   "metadata": {},
   "outputs": [],
   "source": [
    "call = NMSE()"
   ]
  },
  {
   "cell_type": "code",
   "execution_count": 6,
   "metadata": {},
   "outputs": [],
   "source": [
    "def calculate_loss(exact,pred,denominator_nonzero=10**-5):\n",
    "    loss_denominator = tf.reduce_mean(tf.square(exact),1) + denominator_nonzero\n",
    "    norm_squared = tf.reduce_mean(tf.square(exact - pred), 1)\n",
    "    rel_error = tf.truediv(norm_squared, loss_denominator)\n",
    "    mse = tf.reduce_mean(rel_error)\n",
    "    return mse"
   ]
  },
  {
   "cell_type": "code",
   "execution_count": 7,
   "metadata": {},
   "outputs": [
    {
     "name": "stdout",
     "output_type": "stream",
     "text": [
      "tf.Tensor(2.6451986, shape=(), dtype=float32) \n",
      " tf.Tensor(2.6451986, shape=(), dtype=float32) \n",
      " tf.Tensor(0.0, shape=(), dtype=float32)\n"
     ]
    }
   ],
   "source": [
    "tf1 = calculate_loss(x_sums, y_sums)\n",
    "tf2 = call(x_sums, y_sums)\n",
    "print(tf1, \"\\n\", tf2, \"\\n\", tf2-tf1)"
   ]
  },
  {
   "cell_type": "code",
   "execution_count": 8,
   "metadata": {},
   "outputs": [
    {
     "data": {
      "text/plain": [
       "<tf.Tensor: shape=(1, 3, 2), dtype=float32, numpy=\n",
       "array([[[-0.6054458 ,  0.13295569],\n",
       "        [ 1.4990121 , -0.8654718 ],\n",
       "        [-1.7047676 ,  1.1586118 ]]], dtype=float32)>"
      ]
     },
     "execution_count": 8,
     "metadata": {},
     "output_type": "execute_result"
    }
   ],
   "source": [
    "x[None]"
   ]
  }
 ],
 "metadata": {
  "kernelspec": {
   "display_name": "Python 3",
   "language": "python",
   "name": "python3"
  },
  "language_info": {
   "codemirror_mode": {
    "name": "ipython",
    "version": 3
   },
   "file_extension": ".py",
   "mimetype": "text/x-python",
   "name": "python",
   "nbconvert_exporter": "python",
   "pygments_lexer": "ipython3",
   "version": "3.7.6"
  }
 },
 "nbformat": 4,
 "nbformat_minor": 4
}
